{
  "nbformat": 4,
  "nbformat_minor": 0,
  "metadata": {
    "colab": {
      "name": "Miniproject1.ipynb",
      "provenance": [],
      "private_outputs": true,
      "mount_file_id": "14z5yAhqsENROmZqufysowTbh0dXMNvKE",
      "authorship_tag": "ABX9TyPss2hC99BUHaNRoBQw5FAN",
      "include_colab_link": true
    },
    "kernelspec": {
      "name": "python3",
      "display_name": "Python 3"
    },
    "accelerator": "GPU"
  },
  "cells": [
    {
      "cell_type": "markdown",
      "metadata": {
        "id": "view-in-github",
        "colab_type": "text"
      },
      "source": [
        "<a href=\"https://colab.research.google.com/github/HungYangChang/ECSE551/blob/master/Miniproject1.ipynb\" target=\"_parent\"><img src=\"https://colab.research.google.com/assets/colab-badge.svg\" alt=\"Open In Colab\"/></a>"
      ]
    },
    {
      "cell_type": "code",
      "metadata": {
        "id": "3oTZkJ5Pne5u",
        "colab_type": "code",
        "colab": {}
      },
      "source": [
        "cd /content/drive/My Drive/Colab/ECSE551Miniproject1"
      ],
      "execution_count": null,
      "outputs": []
    },
    {
      "cell_type": "code",
      "metadata": {
        "id": "K7wBSV_rsui0",
        "colab_type": "code",
        "colab": {}
      },
      "source": [
        "import pandas as pd, numpy as np\n",
        "df_data = pd.read_csv('./hepatitis.csv')"
      ],
      "execution_count": null,
      "outputs": []
    },
    {
      "cell_type": "markdown",
      "metadata": {
        "id": "-b7d4WCZp4Zw",
        "colab_type": "text"
      },
      "source": [
        "The goal of this homework is to gain experience on implementing the well-known linear classifier logistic regression, from scratch, as are discussed in the class lectures. You are required to perform two-class classification on two datasets Hepatitis and Bankruptcy by using Logistic Regression classifier. Datasets are attached.\n",
        "\n",
        "Dataset Hepatitis consists of various features for hepatitis patients. The main aim of the Hepatitis dataset is to discriminate two classes: survivors and patients for whom the hepatitis proved terminal. For the purpose of this project we will use Hepatitis.csv to build observation matrix X and its associated class label vector y. \n",
        "Dataset Bankruptcy contains various econometric attributes for bankruptcy status prediction. For the purpose of this project we will use Bankrupcy.csv to build observation matrix X and its associated class label vector y."
      ]
    },
    {
      "cell_type": "code",
      "metadata": {
        "id": "EGv3KRgWuMGM",
        "colab_type": "code",
        "colab": {}
      },
      "source": [
        ""
      ],
      "execution_count": null,
      "outputs": []
    }
  ]
}