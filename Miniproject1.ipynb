{
  "nbformat": 4,
  "nbformat_minor": 0,
  "metadata": {
    "colab": {
      "name": "Miniproject1.ipynb",
      "provenance": [],
      "private_outputs": true,
      "collapsed_sections": [],
      "mount_file_id": "14z5yAhqsENROmZqufysowTbh0dXMNvKE",
      "authorship_tag": "ABX9TyPk8l5z/ORZ/Rruy7S0Aw/e",
      "include_colab_link": true
    },
    "kernelspec": {
      "name": "python3",
      "display_name": "Python 3"
    },
    "accelerator": "GPU"
  },
  "cells": [
    {
      "cell_type": "markdown",
      "metadata": {
        "id": "view-in-github",
        "colab_type": "text"
      },
      "source": [
        "<a href=\"https://colab.research.google.com/github/HungYangChang/ECSE551/blob/master/Miniproject1.ipynb\" target=\"_parent\"><img src=\"https://colab.research.google.com/assets/colab-badge.svg\" alt=\"Open In Colab\"/></a>"
      ]
    },
    {
      "cell_type": "code",
      "metadata": {
        "id": "fLdbMJpptgiB",
        "colab_type": "code",
        "colab": {}
      },
      "source": [
        "# cd content/drive/My Drive/Colab/ECSE551Miniproject1/\n",
        "import pandas as pd, numpy as np\n",
        "import matplotlib.pyplot as plt\n",
        "import seaborn as sns\n",
        "data = pd.read_csv('./hepatitis.csv')"
      ],
      "execution_count": null,
      "outputs": []
    },
    {
      "cell_type": "code",
      "metadata": {
        "id": "EGv3KRgWuMGM",
        "colab_type": "code",
        "colab": {}
      },
      "source": [
        "print(data)"
      ],
      "execution_count": null,
      "outputs": []
    },
    {
      "cell_type": "code",
      "metadata": {
        "id": "_3MZqwFdqSqq",
        "colab_type": "code",
        "colab": {}
      },
      "source": [
        "# Analysize Data\n",
        "\n",
        "# Find mean\n",
        "print(data.mean())\n",
        "# Find correlation of each one (to check how correct of i.i.d assumpation)\n",
        "corr_data = data.corr()\n",
        "plt.figure(figsize=(20, 20))\n",
        "heatmap = sns.heatmap(corr_data, annot=True, linewidths=0.5, linecolor=\"white\",vmin=0.3, cmap=\"YlGnBu\")"
      ],
      "execution_count": null,
      "outputs": []
    },
    {
      "cell_type": "code",
      "metadata": {
        "id": "qJ1mU5my2EMU",
        "colab_type": "code",
        "colab": {}
      },
      "source": [
        "# divide data into Training, validation, and Test (Q: is validation necessary?)\n",
        "# k-fold non-finished yet\n",
        "\n",
        "# 80% for training\n",
        "data_train = data.sample(frac = 0.8, random_state=1)\n",
        "##.iloc to get row information but not include label\n",
        "print (data_train.iloc[:, :-1])\n",
        "x_train = np.array(data_train.iloc[:, :-1])\n",
        "print (x_train)\n",
        "y_train = np.array(data_train[\"ClassLabel\"])\n",
        "print (y_train)\n",
        "\n",
        "## Select half of rest data for validation (?)\n",
        "# data_temp = data.drop(data_train.index)\n",
        "# data_validation = data_temp.sample(frac = 0.5, random_state=1)\n",
        "# x_validation = np.array(data_validation.iloc[:, :-1])\n",
        "# y_validation = np.array(data_validation[\"ClassLabel\"])\n",
        "\n",
        "## Select rest of data for testing\n",
        "print (data_train.index)\n",
        "data_test = data.drop(data_train.index)\n",
        "x_test = np.array(data_test.iloc[:, :-1])\n",
        "y_test = np.array(data_test[\"ClassLabel\"])\n",
        "\n",
        "## Show number of training and testing data\n",
        "print(\"Number of Training data: \", len(x_train),\"Testing data:\",len(x_test))"
      ],
      "execution_count": null,
      "outputs": []
    },
    {
      "cell_type": "code",
      "metadata": {
        "id": "3BHWPKcutw6Z",
        "colab_type": "code",
        "colab": {}
      },
      "source": [
        "# linear classifier logistic regression\n"
      ],
      "execution_count": null,
      "outputs": []
    },
    {
      "cell_type": "code",
      "metadata": {
        "id": "JhA7Cqs9H2ld",
        "colab_type": "code",
        "colab": {}
      },
      "source": [
        "# fit"
      ],
      "execution_count": null,
      "outputs": []
    },
    {
      "cell_type": "code",
      "metadata": {
        "id": "64WNG8W6HkjO",
        "colab_type": "code",
        "colab": {}
      },
      "source": [
        "# predict"
      ],
      "execution_count": null,
      "outputs": []
    },
    {
      "cell_type": "code",
      "metadata": {
        "id": "I70tfyrLHnX8",
        "colab_type": "code",
        "colab": {}
      },
      "source": [
        "# Accu-eval"
      ],
      "execution_count": null,
      "outputs": []
    },
    {
      "cell_type": "code",
      "metadata": {
        "id": "41h96mdbH8rU",
        "colab_type": "code",
        "colab": {}
      },
      "source": [
        "# k-fold"
      ],
      "execution_count": null,
      "outputs": []
    },
    {
      "cell_type": "code",
      "metadata": {
        "id": "jmafTQN93i_P",
        "colab_type": "code",
        "colab": {}
      },
      "source": [
        "# Changing learning rate, check if it's overfit"
      ],
      "execution_count": null,
      "outputs": []
    }
  ]
}