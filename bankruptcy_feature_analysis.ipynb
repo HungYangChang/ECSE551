{
  "nbformat": 4,
  "nbformat_minor": 0,
  "metadata": {
    "colab": {
      "name": "bankruptcy_feature_analysis.ipynb",
      "provenance": [],
      "collapsed_sections": [],
      "toc_visible": true,
      "include_colab_link": true
    },
    "kernelspec": {
      "name": "python3",
      "display_name": "Python 3"
    }
  },
  "cells": [
    {
      "cell_type": "markdown",
      "metadata": {
        "id": "view-in-github",
        "colab_type": "text"
      },
      "source": [
        "<a href=\"https://colab.research.google.com/github/HungYangChang/ECSE551/blob/master/bankruptcy_feature_analysis.ipynb\" target=\"_parent\"><img src=\"https://colab.research.google.com/assets/colab-badge.svg\" alt=\"Open In Colab\"/></a>"
      ]
    },
    {
      "cell_type": "markdown",
      "metadata": {
        "id": "Tgk3hQPDmhZV"
      },
      "source": [
        "# Perform initial data analysis on bankruptcy data set"
      ]
    },
    {
      "cell_type": "code",
      "metadata": {
        "id": "ZDuH9WG0mabi"
      },
      "source": [
        "# Import relevant modules\n",
        "import pandas as pd\n",
        "import numpy as np\n",
        "import matplotlib.pyplot as plt"
      ],
      "execution_count": null,
      "outputs": []
    },
    {
      "cell_type": "code",
      "metadata": {
        "id": "0RcADzDYnAy0",
        "outputId": "9485ebf5-089a-451e-aca4-c3b47516d9b5",
        "colab": {
          "base_uri": "https://localhost:8080/",
          "height": 170
        }
      },
      "source": [
        "# Load bankruptcy data\n",
        "url = \"https://raw.githubusercontent.com/jonarsenault/ecse551data/master/bankrupcy.csv\"\n",
        "bank_data = pd.read_csv(url)\n",
        "\n",
        "# Display some of the data\n",
        "print(bank_data.head())\n",
        "\n",
        "# Print size of data\n",
        "bank_data.shape"
      ],
      "execution_count": null,
      "outputs": [
        {
          "output_type": "stream",
          "text": [
            "   attribute1  attribute2  attribute3  ...  attribute63  attribute64  ClassLabel\n",
            "0     -0.0315     -0.0913     -0.0403  ...      -0.1740      -0.0468           0\n",
            "1     -0.2320     -0.0494      0.3040  ...      -0.0731      -0.0272           0\n",
            "2     -0.0586      0.0651     -0.4880  ...      -0.2920      -0.0336           0\n",
            "3     -0.0694      0.0446     -0.1820  ...      -0.5550      -0.0468           0\n",
            "4      0.2360     -0.0519      0.6780  ...      -0.0278      -0.0237           0\n",
            "\n",
            "[5 rows x 65 columns]\n"
          ],
          "name": "stdout"
        },
        {
          "output_type": "execute_result",
          "data": {
            "text/plain": [
              "(453, 65)"
            ]
          },
          "metadata": {
            "tags": []
          },
          "execution_count": 7
        }
      ]
    },
    {
      "cell_type": "code",
      "metadata": {
        "id": "w8YvaZgMnEvs",
        "outputId": "ab992e92-d324-46c4-8d6e-02423b217699",
        "colab": {
          "base_uri": "https://localhost:8080/",
          "height": 347
        }
      },
      "source": [
        "# Plot distribution of class labels\n",
        "\n",
        "label_counts = bank_data[\"ClassLabel\"].value_counts()\n",
        "print(label_counts)\n",
        "unique_labels = bank_data[\"ClassLabel\"].unique()\n",
        "\n",
        "fig, ax = plt.subplots()\n",
        "ax.grid(zorder=1, axis=\"y\")\n",
        "ax.bar(unique_labels, label_counts, zorder=2)\n",
        "ax.set_xticks([0,1])\n",
        "ax.set_xticklabels(unique_labels)\n",
        "ax.set_xlabel(\"Class Label\")\n",
        "ax.set_ylabel(\"Count\")"
      ],
      "execution_count": null,
      "outputs": [
        {
          "output_type": "stream",
          "text": [
            "0    250\n",
            "1    203\n",
            "Name: ClassLabel, dtype: int64\n"
          ],
          "name": "stdout"
        },
        {
          "output_type": "execute_result",
          "data": {
            "text/plain": [
              "Text(0, 0.5, 'Count')"
            ]
          },
          "metadata": {
            "tags": []
          },
          "execution_count": 8
        },
        {
          "output_type": "display_data",
          "data": {
            "image/png": "[encoded data removed]",
            "text/plain": [
              "<Figure size 432x288 with 1 Axes>"
            ]
          },
          "metadata": {
            "tags": [],
            "needs_background": "light"
          }
        }
      ]
    },
    {
      "cell_type": "code",
      "metadata": {
        "id": "lYA6zxrFnItT",
        "outputId": "da4c757b-5599-4258-adef-23c69454f528",
        "colab": {
          "base_uri": "https://localhost:8080/",
          "height": 317
        }
      },
      "source": [
        "# Print summary statistics of features \n",
        "bank_data.iloc[:,:-1].describe()"
      ],
      "execution_count": null,
      "outputs": [
        {
          "output_type": "execute_result",
          "data": {
            "text/html": [
              "<div>\n",
              "<style scoped>\n",
              "    .dataframe tbody tr th:only-of-type {\n",
              "        vertical-align: middle;\n",
              "    }\n",
              "\n",
              "    .dataframe tbody tr th {\n",
              "        vertical-align: top;\n",
              "    }\n",
              "\n",
              "    .dataframe thead th {\n",
              "        text-align: right;\n",
              "    }\n",
              "</style>\n",
              "<table border=\"1\" class=\"dataframe\">\n",
              "  <thead>\n",
              "    <tr style=\"text-align: right;\">\n",
              "      <th></th>\n",
              "      <th>attribute1</th>\n",
              "      <th>attribute2</th>\n",
              "      <th>attribute3</th>\n",
              "      <th>attribute4</th>\n",
              "      <th>attribute5</th>\n",
              "      <th>attribute6</th>\n",
              "      <th>attribute7</th>\n",
              "      <th>attribute8</th>\n",
              "      <th>attribute9</th>\n",
              "      <th>attribute10</th>\n",
              "      <th>attribute11</th>\n",
              "      <th>attribute12</th>\n",
              "      <th>attribute13</th>\n",
              "      <th>attribute14</th>\n",
              "      <th>attribute15</th>\n",
              "      <th>attribute16</th>\n",
              "      <th>attribute17</th>\n",
              "      <th>attribute18</th>\n",
              "      <th>attribute19</th>\n",
              "      <th>attribute20</th>\n",
              "      <th>attribute21</th>\n",
              "      <th>attribute22</th>\n",
              "      <th>attribute23</th>\n",
              "      <th>attribute24</th>\n",
              "      <th>attribute25</th>\n",
              "      <th>attribute26</th>\n",
              "      <th>attribute27</th>\n",
              "      <th>attribute28</th>\n",
              "      <th>attribute29</th>\n",
              "      <th>attribute30</th>\n",
              "      <th>attribute31</th>\n",
              "      <th>attribute32</th>\n",
              "      <th>attribute33</th>\n",
              "      <th>attribute34</th>\n",
              "      <th>attribute35</th>\n",
              "      <th>attribute36</th>\n",
              "      <th>attribute37</th>\n",
              "      <th>attribute38</th>\n",
              "      <th>attribute39</th>\n",
              "      <th>attribute40</th>\n",
              "      <th>attribute41</th>\n",
              "      <th>attribute42</th>\n",
              "      <th>attribute43</th>\n",
              "      <th>attribute44</th>\n",
              "      <th>attribute45</th>\n",
              "      <th>attribute46</th>\n",
              "      <th>attribute47</th>\n",
              "      <th>attribute48</th>\n",
              "      <th>attribute49</th>\n",
              "      <th>attribute50</th>\n",
              "      <th>attribute51</th>\n",
              "      <th>attribute52</th>\n",
              "      <th>attribute53</th>\n",
              "      <th>attribute54</th>\n",
              "      <th>attribute55</th>\n",
              "      <th>attribute56</th>\n",
              "      <th>attribute57</th>\n",
              "      <th>attribute58</th>\n",
              "      <th>attribute59</th>\n",
              "      <th>attribute60</th>\n",
              "      <th>attribute61</th>\n",
              "      <th>attribute62</th>\n",
              "      <th>attribute63</th>\n",
              "      <th>attribute64</th>\n",
              "    </tr>\n",
              "  </thead>\n",
              "  <tbody>\n",
              "    <tr>\n",
              "      <th>count</th>\n",
              "      <td>453.000000</td>\n",
              "      <td>453.000000</td>\n",
              "      <td>453.000000</td>\n",
              "      <td>453.000000</td>\n",
              "      <td>453.000000</td>\n",
              "      <td>453.000000</td>\n",
              "      <td>453.000000</td>\n",
              "      <td>453.000000</td>\n",
              "      <td>453.000000</td>\n",
              "      <td>453.000000</td>\n",
              "      <td>453.000000</td>\n",
              "      <td>453.000000</td>\n",
              "      <td>453.000000</td>\n",
              "      <td>453.000000</td>\n",
              "      <td>453.000000</td>\n",
              "      <td>453.00000</td>\n",
              "      <td>453.000000</td>\n",
              "      <td>453.000000</td>\n",
              "      <td>453.000000</td>\n",
              "      <td>453.000000</td>\n",
              "      <td>453.000000</td>\n",
              "      <td>453.000000</td>\n",
              "      <td>453.000000</td>\n",
              "      <td>453.000000</td>\n",
              "      <td>453.000000</td>\n",
              "      <td>453.000000</td>\n",
              "      <td>453.000000</td>\n",
              "      <td>453.000000</td>\n",
              "      <td>453.000000</td>\n",
              "      <td>453.000000</td>\n",
              "      <td>453.000000</td>\n",
              "      <td>453.000000</td>\n",
              "      <td>453.000000</td>\n",
              "      <td>453.000000</td>\n",
              "      <td>453.000000</td>\n",
              "      <td>453.000000</td>\n",
              "      <td>453.000000</td>\n",
              "      <td>453.000000</td>\n",
              "      <td>453.000000</td>\n",
              "      <td>453.000000</td>\n",
              "      <td>453.000000</td>\n",
              "      <td>453.000000</td>\n",
              "      <td>453.000000</td>\n",
              "      <td>453.000000</td>\n",
              "      <td>453.000000</td>\n",
              "      <td>453.000000</td>\n",
              "      <td>453.000000</td>\n",
              "      <td>453.000000</td>\n",
              "      <td>453.000000</td>\n",
              "      <td>453.000000</td>\n",
              "      <td>453.000000</td>\n",
              "      <td>453.000000</td>\n",
              "      <td>453.000000</td>\n",
              "      <td>453.000000</td>\n",
              "      <td>453.000000</td>\n",
              "      <td>453.000000</td>\n",
              "      <td>453.000000</td>\n",
              "      <td>453.000000</td>\n",
              "      <td>453.000000</td>\n",
              "      <td>453.000000</td>\n",
              "      <td>453.000000</td>\n",
              "      <td>453.000000</td>\n",
              "      <td>453.000000</td>\n",
              "      <td>453.000000</td>\n",
              "    </tr>\n",
              "    <tr>\n",
              "      <th>mean</th>\n",
              "      <td>-0.079329</td>\n",
              "      <td>0.034849</td>\n",
              "      <td>-0.228204</td>\n",
              "      <td>-0.070187</td>\n",
              "      <td>0.007117</td>\n",
              "      <td>-0.070507</td>\n",
              "      <td>-0.006387</td>\n",
              "      <td>-0.137298</td>\n",
              "      <td>0.079628</td>\n",
              "      <td>-0.038179</td>\n",
              "      <td>-0.184612</td>\n",
              "      <td>-0.086773</td>\n",
              "      <td>-0.013439</td>\n",
              "      <td>-0.006392</td>\n",
              "      <td>-0.005153</td>\n",
              "      <td>-0.23991</td>\n",
              "      <td>-0.146144</td>\n",
              "      <td>-0.008432</td>\n",
              "      <td>-0.035658</td>\n",
              "      <td>0.096797</td>\n",
              "      <td>0.050098</td>\n",
              "      <td>-0.205164</td>\n",
              "      <td>-0.030013</td>\n",
              "      <td>-0.084634</td>\n",
              "      <td>-0.137836</td>\n",
              "      <td>-0.236385</td>\n",
              "      <td>-0.009777</td>\n",
              "      <td>-0.011449</td>\n",
              "      <td>-0.145535</td>\n",
              "      <td>0.044153</td>\n",
              "      <td>-0.034203</td>\n",
              "      <td>-0.009486</td>\n",
              "      <td>-0.103328</td>\n",
              "      <td>0.110358</td>\n",
              "      <td>-0.247298</td>\n",
              "      <td>-0.016978</td>\n",
              "      <td>-0.012521</td>\n",
              "      <td>-0.025538</td>\n",
              "      <td>-0.039993</td>\n",
              "      <td>-0.035146</td>\n",
              "      <td>-0.007386</td>\n",
              "      <td>-0.031183</td>\n",
              "      <td>0.012971</td>\n",
              "      <td>-0.001902</td>\n",
              "      <td>0.003613</td>\n",
              "      <td>-0.075185</td>\n",
              "      <td>-0.017667</td>\n",
              "      <td>-0.114832</td>\n",
              "      <td>-0.018169</td>\n",
              "      <td>-0.154670</td>\n",
              "      <td>0.223719</td>\n",
              "      <td>-0.010221</td>\n",
              "      <td>-0.011205</td>\n",
              "      <td>-0.011589</td>\n",
              "      <td>-0.101627</td>\n",
              "      <td>0.009393</td>\n",
              "      <td>-0.019739</td>\n",
              "      <td>-0.009330</td>\n",
              "      <td>0.022235</td>\n",
              "      <td>-0.028293</td>\n",
              "      <td>-0.005740</td>\n",
              "      <td>0.021030</td>\n",
              "      <td>-0.120022</td>\n",
              "      <td>-0.004343</td>\n",
              "    </tr>\n",
              "    <tr>\n",
              "      <th>std</th>\n",
              "      <td>0.252813</td>\n",
              "      <td>0.101913</td>\n",
              "      <td>1.032602</td>\n",
              "      <td>0.302937</td>\n",
              "      <td>0.012653</td>\n",
              "      <td>1.053857</td>\n",
              "      <td>0.046343</td>\n",
              "      <td>0.839836</td>\n",
              "      <td>0.955072</td>\n",
              "      <td>0.126544</td>\n",
              "      <td>0.746761</td>\n",
              "      <td>0.380864</td>\n",
              "      <td>0.021660</td>\n",
              "      <td>0.046342</td>\n",
              "      <td>0.241928</td>\n",
              "      <td>0.78927</td>\n",
              "      <td>0.815853</td>\n",
              "      <td>0.045649</td>\n",
              "      <td>0.504346</td>\n",
              "      <td>2.210859</td>\n",
              "      <td>1.349882</td>\n",
              "      <td>0.769030</td>\n",
              "      <td>0.426189</td>\n",
              "      <td>1.633206</td>\n",
              "      <td>0.403346</td>\n",
              "      <td>0.802891</td>\n",
              "      <td>0.001834</td>\n",
              "      <td>0.068906</td>\n",
              "      <td>0.985824</td>\n",
              "      <td>1.175464</td>\n",
              "      <td>0.530826</td>\n",
              "      <td>0.063428</td>\n",
              "      <td>0.532428</td>\n",
              "      <td>0.942146</td>\n",
              "      <td>0.977401</td>\n",
              "      <td>0.959335</td>\n",
              "      <td>0.242490</td>\n",
              "      <td>0.076521</td>\n",
              "      <td>0.506831</td>\n",
              "      <td>0.251033</td>\n",
              "      <td>0.000732</td>\n",
              "      <td>0.396027</td>\n",
              "      <td>0.531838</td>\n",
              "      <td>0.205564</td>\n",
              "      <td>0.021090</td>\n",
              "      <td>0.285901</td>\n",
              "      <td>0.059416</td>\n",
              "      <td>0.677625</td>\n",
              "      <td>0.376776</td>\n",
              "      <td>0.759908</td>\n",
              "      <td>1.025234</td>\n",
              "      <td>0.062096</td>\n",
              "      <td>0.142468</td>\n",
              "      <td>0.069628</td>\n",
              "      <td>0.516665</td>\n",
              "      <td>0.009096</td>\n",
              "      <td>0.306401</td>\n",
              "      <td>0.009146</td>\n",
              "      <td>0.588701</td>\n",
              "      <td>0.069107</td>\n",
              "      <td>0.480261</td>\n",
              "      <td>0.630186</td>\n",
              "      <td>0.534885</td>\n",
              "      <td>0.205593</td>\n",
              "    </tr>\n",
              "    <tr>\n",
              "      <th>min</th>\n",
              "      <td>-2.250000</td>\n",
              "      <td>-0.159000</td>\n",
              "      <td>-5.990000</td>\n",
              "      <td>-0.381000</td>\n",
              "      <td>-0.143000</td>\n",
              "      <td>-22.400000</td>\n",
              "      <td>-0.384000</td>\n",
              "      <td>-0.874000</td>\n",
              "      <td>-1.260000</td>\n",
              "      <td>-0.883000</td>\n",
              "      <td>-4.060000</td>\n",
              "      <td>-1.900000</td>\n",
              "      <td>-0.460000</td>\n",
              "      <td>-0.384000</td>\n",
              "      <td>-2.370000</td>\n",
              "      <td>-3.11000</td>\n",
              "      <td>-0.862000</td>\n",
              "      <td>-0.381000</td>\n",
              "      <td>-10.400000</td>\n",
              "      <td>-0.073400</td>\n",
              "      <td>-0.019100</td>\n",
              "      <td>-4.200000</td>\n",
              "      <td>-8.680000</td>\n",
              "      <td>-34.700000</td>\n",
              "      <td>-2.520000</td>\n",
              "      <td>-3.270000</td>\n",
              "      <td>-0.016900</td>\n",
              "      <td>-0.090400</td>\n",
              "      <td>-3.240000</td>\n",
              "      <td>-0.033900</td>\n",
              "      <td>-11.000000</td>\n",
              "      <td>-0.030700</td>\n",
              "      <td>-0.759000</td>\n",
              "      <td>-1.070000</td>\n",
              "      <td>-9.210000</td>\n",
              "      <td>-1.470000</td>\n",
              "      <td>-0.034700</td>\n",
              "      <td>-0.493000</td>\n",
              "      <td>-10.400000</td>\n",
              "      <td>-0.153000</td>\n",
              "      <td>-0.015400</td>\n",
              "      <td>-8.110000</td>\n",
              "      <td>-0.031300</td>\n",
              "      <td>-0.022300</td>\n",
              "      <td>-0.400000</td>\n",
              "      <td>-0.323000</td>\n",
              "      <td>-0.043800</td>\n",
              "      <td>-3.590000</td>\n",
              "      <td>-7.620000</td>\n",
              "      <td>-0.975000</td>\n",
              "      <td>-1.420000</td>\n",
              "      <td>-0.030100</td>\n",
              "      <td>-1.370000</td>\n",
              "      <td>-0.108000</td>\n",
              "      <td>-3.470000</td>\n",
              "      <td>-0.176000</td>\n",
              "      <td>-5.460000</td>\n",
              "      <td>-0.018200</td>\n",
              "      <td>-0.742000</td>\n",
              "      <td>-0.048600</td>\n",
              "      <td>-0.413000</td>\n",
              "      <td>-0.021100</td>\n",
              "      <td>-0.743000</td>\n",
              "      <td>-0.051000</td>\n",
              "    </tr>\n",
              "    <tr>\n",
              "      <th>25%</th>\n",
              "      <td>-0.140000</td>\n",
              "      <td>-0.030600</td>\n",
              "      <td>-0.799000</td>\n",
              "      <td>-0.223000</td>\n",
              "      <td>0.006530</td>\n",
              "      <td>-0.020400</td>\n",
              "      <td>-0.020200</td>\n",
              "      <td>-0.503000</td>\n",
              "      <td>-0.396000</td>\n",
              "      <td>-0.101000</td>\n",
              "      <td>-0.443000</td>\n",
              "      <td>-0.213000</td>\n",
              "      <td>-0.012900</td>\n",
              "      <td>-0.020200</td>\n",
              "      <td>-0.029200</td>\n",
              "      <td>-0.54300</td>\n",
              "      <td>-0.505000</td>\n",
              "      <td>-0.022100</td>\n",
              "      <td>-0.013600</td>\n",
              "      <td>-0.050100</td>\n",
              "      <td>-0.016500</td>\n",
              "      <td>-0.446000</td>\n",
              "      <td>-0.009000</td>\n",
              "      <td>-0.056600</td>\n",
              "      <td>-0.308000</td>\n",
              "      <td>-0.521000</td>\n",
              "      <td>-0.010000</td>\n",
              "      <td>-0.022400</td>\n",
              "      <td>-0.748000</td>\n",
              "      <td>-0.021900</td>\n",
              "      <td>-0.014900</td>\n",
              "      <td>-0.023100</td>\n",
              "      <td>-0.431000</td>\n",
              "      <td>-0.523000</td>\n",
              "      <td>-0.583000</td>\n",
              "      <td>-0.611000</td>\n",
              "      <td>-0.034400</td>\n",
              "      <td>-0.069300</td>\n",
              "      <td>-0.030900</td>\n",
              "      <td>-0.142000</td>\n",
              "      <td>-0.007440</td>\n",
              "      <td>-0.018000</td>\n",
              "      <td>-0.020700</td>\n",
              "      <td>-0.016400</td>\n",
              "      <td>0.003440</td>\n",
              "      <td>-0.225000</td>\n",
              "      <td>-0.034900</td>\n",
              "      <td>-0.371000</td>\n",
              "      <td>-0.006850</td>\n",
              "      <td>-0.559000</td>\n",
              "      <td>-0.493000</td>\n",
              "      <td>-0.022700</td>\n",
              "      <td>-0.033900</td>\n",
              "      <td>-0.022100</td>\n",
              "      <td>-0.138000</td>\n",
              "      <td>0.009200</td>\n",
              "      <td>-0.003230</td>\n",
              "      <td>-0.010600</td>\n",
              "      <td>-0.022500</td>\n",
              "      <td>-0.044000</td>\n",
              "      <td>-0.210000</td>\n",
              "      <td>-0.015800</td>\n",
              "      <td>-0.436000</td>\n",
              "      <td>-0.042000</td>\n",
              "    </tr>\n",
              "    <tr>\n",
              "      <th>50%</th>\n",
              "      <td>-0.062000</td>\n",
              "      <td>0.031500</td>\n",
              "      <td>-0.182000</td>\n",
              "      <td>-0.154000</td>\n",
              "      <td>0.007150</td>\n",
              "      <td>-0.016000</td>\n",
              "      <td>-0.004090</td>\n",
              "      <td>-0.364000</td>\n",
              "      <td>-0.267000</td>\n",
              "      <td>-0.034400</td>\n",
              "      <td>-0.167000</td>\n",
              "      <td>-0.147000</td>\n",
              "      <td>-0.012000</td>\n",
              "      <td>-0.004090</td>\n",
              "      <td>-0.010400</td>\n",
              "      <td>-0.39100</td>\n",
              "      <td>-0.375000</td>\n",
              "      <td>-0.006170</td>\n",
              "      <td>0.005870</td>\n",
              "      <td>-0.025700</td>\n",
              "      <td>-0.015800</td>\n",
              "      <td>-0.171000</td>\n",
              "      <td>0.007840</td>\n",
              "      <td>-0.021700</td>\n",
              "      <td>-0.097000</td>\n",
              "      <td>-0.378000</td>\n",
              "      <td>-0.009950</td>\n",
              "      <td>-0.019500</td>\n",
              "      <td>-0.233000</td>\n",
              "      <td>-0.016700</td>\n",
              "      <td>0.006860</td>\n",
              "      <td>-0.018100</td>\n",
              "      <td>-0.238000</td>\n",
              "      <td>-0.095700</td>\n",
              "      <td>-0.231000</td>\n",
              "      <td>-0.227000</td>\n",
              "      <td>-0.033900</td>\n",
              "      <td>-0.014900</td>\n",
              "      <td>-0.001380</td>\n",
              "      <td>-0.121000</td>\n",
              "      <td>-0.007400</td>\n",
              "      <td>0.001620</td>\n",
              "      <td>-0.015300</td>\n",
              "      <td>-0.012800</td>\n",
              "      <td>0.003950</td>\n",
              "      <td>-0.141000</td>\n",
              "      <td>-0.025900</td>\n",
              "      <td>-0.064500</td>\n",
              "      <td>0.020300</td>\n",
              "      <td>-0.348000</td>\n",
              "      <td>0.032600</td>\n",
              "      <td>-0.017800</td>\n",
              "      <td>-0.024000</td>\n",
              "      <td>-0.019100</td>\n",
              "      <td>-0.117000</td>\n",
              "      <td>0.009670</td>\n",
              "      <td>0.006500</td>\n",
              "      <td>-0.009760</td>\n",
              "      <td>-0.019200</td>\n",
              "      <td>-0.040500</td>\n",
              "      <td>-0.141000</td>\n",
              "      <td>-0.012400</td>\n",
              "      <td>-0.260000</td>\n",
              "      <td>-0.035300</td>\n",
              "    </tr>\n",
              "    <tr>\n",
              "      <th>75%</th>\n",
              "      <td>0.029600</td>\n",
              "      <td>0.083900</td>\n",
              "      <td>0.422000</td>\n",
              "      <td>-0.044800</td>\n",
              "      <td>0.007540</td>\n",
              "      <td>-0.007240</td>\n",
              "      <td>0.014500</td>\n",
              "      <td>-0.093900</td>\n",
              "      <td>0.297000</td>\n",
              "      <td>0.040200</td>\n",
              "      <td>0.130000</td>\n",
              "      <td>-0.040700</td>\n",
              "      <td>-0.010900</td>\n",
              "      <td>0.014500</td>\n",
              "      <td>0.013600</td>\n",
              "      <td>-0.15800</td>\n",
              "      <td>-0.098700</td>\n",
              "      <td>0.012200</td>\n",
              "      <td>0.030200</td>\n",
              "      <td>0.010200</td>\n",
              "      <td>-0.015200</td>\n",
              "      <td>0.137000</td>\n",
              "      <td>0.027600</td>\n",
              "      <td>0.037500</td>\n",
              "      <td>0.109000</td>\n",
              "      <td>-0.148000</td>\n",
              "      <td>-0.009880</td>\n",
              "      <td>-0.014700</td>\n",
              "      <td>0.441000</td>\n",
              "      <td>-0.009120</td>\n",
              "      <td>0.031100</td>\n",
              "      <td>-0.009590</td>\n",
              "      <td>0.037200</td>\n",
              "      <td>0.417000</td>\n",
              "      <td>0.188000</td>\n",
              "      <td>0.331000</td>\n",
              "      <td>-0.031900</td>\n",
              "      <td>0.027600</td>\n",
              "      <td>0.031500</td>\n",
              "      <td>-0.050500</td>\n",
              "      <td>-0.007320</td>\n",
              "      <td>0.024900</td>\n",
              "      <td>-0.007610</td>\n",
              "      <td>-0.009400</td>\n",
              "      <td>0.004640</td>\n",
              "      <td>-0.049300</td>\n",
              "      <td>-0.012800</td>\n",
              "      <td>0.233000</td>\n",
              "      <td>0.041000</td>\n",
              "      <td>-0.020000</td>\n",
              "      <td>0.764000</td>\n",
              "      <td>-0.009840</td>\n",
              "      <td>-0.009500</td>\n",
              "      <td>-0.014500</td>\n",
              "      <td>-0.060700</td>\n",
              "      <td>0.010600</td>\n",
              "      <td>0.016000</td>\n",
              "      <td>-0.009290</td>\n",
              "      <td>-0.010800</td>\n",
              "      <td>-0.032100</td>\n",
              "      <td>0.013200</td>\n",
              "      <td>-0.006780</td>\n",
              "      <td>-0.013500</td>\n",
              "      <td>-0.021000</td>\n",
              "    </tr>\n",
              "    <tr>\n",
              "      <th>max</th>\n",
              "      <td>1.010000</td>\n",
              "      <td>0.706000</td>\n",
              "      <td>2.370000</td>\n",
              "      <td>2.120000</td>\n",
              "      <td>0.130000</td>\n",
              "      <td>0.223000</td>\n",
              "      <td>0.229000</td>\n",
              "      <td>8.670000</td>\n",
              "      <td>7.000000</td>\n",
              "      <td>0.212000</td>\n",
              "      <td>4.340000</td>\n",
              "      <td>2.780000</td>\n",
              "      <td>0.003270</td>\n",
              "      <td>0.229000</td>\n",
              "      <td>2.620000</td>\n",
              "      <td>5.91000</td>\n",
              "      <td>8.230000</td>\n",
              "      <td>0.223000</td>\n",
              "      <td>0.199000</td>\n",
              "      <td>47.000000</td>\n",
              "      <td>28.700000</td>\n",
              "      <td>4.370000</td>\n",
              "      <td>0.203000</td>\n",
              "      <td>0.366000</td>\n",
              "      <td>0.604000</td>\n",
              "      <td>6.360000</td>\n",
              "      <td>0.018500</td>\n",
              "      <td>1.270000</td>\n",
              "      <td>3.030000</td>\n",
              "      <td>25.000000</td>\n",
              "      <td>0.231000</td>\n",
              "      <td>1.240000</td>\n",
              "      <td>3.440000</td>\n",
              "      <td>8.070000</td>\n",
              "      <td>4.700000</td>\n",
              "      <td>6.510000</td>\n",
              "      <td>4.990000</td>\n",
              "      <td>0.109000</td>\n",
              "      <td>0.376000</td>\n",
              "      <td>2.190000</td>\n",
              "      <td>0.001880</td>\n",
              "      <td>0.169000</td>\n",
              "      <td>11.300000</td>\n",
              "      <td>4.360000</td>\n",
              "      <td>0.141000</td>\n",
              "      <td>2.470000</td>\n",
              "      <td>1.130000</td>\n",
              "      <td>3.760000</td>\n",
              "      <td>0.182000</td>\n",
              "      <td>5.770000</td>\n",
              "      <td>6.760000</td>\n",
              "      <td>1.250000</td>\n",
              "      <td>2.200000</td>\n",
              "      <td>1.290000</td>\n",
              "      <td>7.750000</td>\n",
              "      <td>0.017100</td>\n",
              "      <td>0.399000</td>\n",
              "      <td>0.176000</td>\n",
              "      <td>12.000000</td>\n",
              "      <td>1.190000</td>\n",
              "      <td>5.270000</td>\n",
              "      <td>13.400000</td>\n",
              "      <td>3.400000</td>\n",
              "      <td>3.980000</td>\n",
              "    </tr>\n",
              "  </tbody>\n",
              "</table>\n",
              "</div>"
            ],
            "text/plain": [
              "       attribute1  attribute2  ...  attribute63  attribute64\n",
              "count  453.000000  453.000000  ...   453.000000   453.000000\n",
              "mean    -0.079329    0.034849  ...    -0.120022    -0.004343\n",
              "std      0.252813    0.101913  ...     0.534885     0.205593\n",
              "min     -2.250000   -0.159000  ...    -0.743000    -0.051000\n",
              "25%     -0.140000   -0.030600  ...    -0.436000    -0.042000\n",
              "50%     -0.062000    0.031500  ...    -0.260000    -0.035300\n",
              "75%      0.029600    0.083900  ...    -0.013500    -0.021000\n",
              "max      1.010000    0.706000  ...     3.400000     3.980000\n",
              "\n",
              "[8 rows x 64 columns]"
            ]
          },
          "metadata": {
            "tags": []
          },
          "execution_count": 9
        }
      ]
    },
    {
      "cell_type": "code",
      "metadata": {
        "id": "lGNc0iu-nXeU",
        "outputId": "88fd9fca-436e-4358-874d-c6ef79021096",
        "colab": {
          "base_uri": "https://localhost:8080/",
          "height": 558
        }
      },
      "source": [
        "# Compute mean of each feature\n",
        "means = bank_data.iloc[:, :-1].mean()\n",
        "\n",
        "# Compute standard deviation of each feature\n",
        "std = bank_data.iloc[:, :-1].std()\n",
        "\n",
        "# Plot mean and standard deviation of each attribute\n",
        "attributes = np.arange(1, 65)\n",
        "fig, ax = plt.subplots()\n",
        "ax.grid(zorder=1, axis=\"y\")\n",
        "ax.bar(attributes, means, zorder=2)\n",
        "ax.set_xlabel(\"Attribute #\")\n",
        "ax.set_ylabel(\"Mean\")\n",
        "\n",
        "attributes = np.arange(1, 65)\n",
        "fig, ax = plt.subplots()\n",
        "ax.grid(zorder=1, axis=\"y\")\n",
        "ax.bar(attributes, std, zorder=2)\n",
        "ax.set_xlabel(\"Attribute #\")\n",
        "ax.set_ylabel(\"Standard Deviation\")"
      ],
      "execution_count": null,
      "outputs": [
        {
          "output_type": "execute_result",
          "data": {
            "text/plain": [
              "Text(0, 0.5, 'Standard Deviation')"
            ]
          },
          "metadata": {
            "tags": []
          },
          "execution_count": 10
        },
        {
          "output_type": "display_data",
          "data": {
            "image/png": "[encoded data removed]",
            "text/plain": [
              "<Figure size 432x288 with 1 Axes>"
            ]
          },
          "metadata": {
            "tags": [],
            "needs_background": "light"
          }
        },
        {
          "output_type": "display_data",
          "data": {
            "image/png": "[encoded data removed]",
            "text/plain": [
              "<Figure size 432x288 with 1 Axes>"
            ]
          },
          "metadata": {
            "tags": [],
            "needs_background": "light"
          }
        }
      ]
    },
    {
      "cell_type": "code",
      "metadata": {
        "id": "ugLteWRnnayk",
        "outputId": "a0a434db-f287-4580-b85b-728a92e4fde9",
        "colab": {
          "base_uri": "https://localhost:8080/",
          "height": 1000
        }
      },
      "source": [
        "# Compute correlation of features only\n",
        "correlation = bank_data.corr()\n",
        "correlation_arr = np.abs(correlation.to_numpy())\n",
        "\n",
        "# upper right and lower left represent exactly the same thing,\n",
        "# so fill nan to lower left\n",
        "for i in range(correlation_arr.shape[0]):\n",
        "    for j in range(i):\n",
        "        correlation_arr[i,j] = np.nan\n",
        "\n",
        "# Plot as image\n",
        "fig, ax = plt.subplots(figsize=(8,8))\n",
        "im = ax.imshow(correlation_arr, vmin=0.0, vmax=1.0)\n",
        "plt.colorbar(im)\n",
        "ax.set_xlabel(\"Attribute\")\n",
        "ax.set_ylabel(\"Attribute\")\n",
        "\n",
        "# correalation btw Class and all attribute\n",
        "print(correlation_arr[:,-1])\n",
        "\n",
        "\n",
        "save_fig = True\n",
        "# Plot bar graph of correlation to class label\n",
        "features = np.arange(len(bank_data.columns[:-1]))\n",
        "fig, ax = plt.subplots()\n",
        "ax.grid(zorder=1, axis=\"y\")\n",
        "ax.bar(features, correlation_arr[:-1, -1], zorder=2)\n",
        "ax.set_xlabel(\"Feature\")\n",
        "ax.set_ylabel(\"Correlation to Class Label\")\n",
        "if save_fig:\n",
        "  plt.tight_layout()\n",
        "  plt.savefig(\"bank_correlation_bar.pdf\", bbox_inches=\"tight\", pad_inches=0)\n",
        "\n",
        "save_fig = True\n",
        "Threshold = 0.15\n",
        "# Plot histogram  of correlation to class label\n",
        "features = np.arange(len(bank_data.columns[:-1]))\n",
        "fig, ax = plt.subplots()\n",
        "ax.grid(zorder=1, axis=\"y\")\n",
        "ax.hist(correlation_arr[:-1, -1], bins=20, zorder=2, edgecolor=\"w\")\n",
        "#ax.vlines(Threshold, *ax.get_ylim(), color=\"r\")\n",
        "\n",
        "ax.set_xlabel(\"Feature\")\n",
        "ax.set_ylabel(\"Count\")\n",
        "if save_fig:\n",
        "  plt.tight_layout()\n",
        "  plt.savefig(\"bank_correlation_hist.pdf\", bbox_inches=\"tight\", pad_inches=0)\n",
        "\n",
        "print(np.count_nonzero(bank_data.columns[correlation_arr[:,-1] < 5e-2]))"
      ],
      "execution_count": null,
      "outputs": [
        {
          "output_type": "stream",
          "text": [
            "[2.75045823e-01 3.23921053e-01 2.67651746e-01 2.71783804e-01\n",
            " 4.97716648e-02 2.70361864e-02 2.74347072e-01 2.00752947e-01\n",
            " 1.26992620e-01 2.96351133e-01 2.26470465e-01 2.75674590e-01\n",
            " 2.27013077e-02 2.74337797e-01 6.19830874e-02 2.83007508e-01\n",
            " 2.12310504e-01 2.74362780e-01 1.89208856e-02 3.90745749e-02\n",
            " 4.39172088e-02 2.48605600e-01 2.76162680e-02 3.42217805e-02\n",
            " 3.49247084e-01 2.79653810e-01 3.52320900e-02 4.92755751e-02\n",
            " 1.26863148e-01 3.70307916e-02 1.12077470e-02 5.53071202e-02\n",
            " 2.35000078e-01 1.37470460e-01 2.80011847e-01 2.68395701e-04\n",
            " 3.95455316e-02 2.97520190e-01 3.85183566e-02 1.78685846e-01\n",
            " 5.12180354e-02 2.28409959e-02 3.94258754e-02 3.99688971e-02\n",
            " 7.10418336e-02 2.80750034e-01 1.83178577e-03 1.72548557e-01\n",
            " 1.77660573e-02 2.52834440e-01 2.80591604e-01 3.29490041e-02\n",
            " 3.81008012e-03 4.27209974e-02 8.50264700e-02 1.30432482e-02\n",
            " 4.18265161e-02 3.36822212e-03 2.45378218e-02 6.05850045e-02\n",
            " 2.53600494e-04 3.58633317e-02 2.68468877e-01 9.25621580e-02\n",
            " 1.00000000e+00]\n",
            "29\n"
          ],
          "name": "stdout"
        },
        {
          "output_type": "display_data",
          "data": {
            "image/png": "[encoded data removed]",
            "text/plain": [
              "<Figure size 576x576 with 2 Axes>"
            ]
          },
          "metadata": {
            "tags": [],
            "needs_background": "light"
          }
        },
        {
          "output_type": "display_data",
          "data": {
            "image/png": "[encoded data removed]",
            "text/plain": [
              "<Figure size 432x288 with 1 Axes>"
            ]
          },
          "metadata": {
            "tags": [],
            "needs_background": "light"
          }
        },
        {
          "output_type": "display_data",
          "data": {
            "image/png": "[encoded data removed]",
            "text/plain": [
              "<Figure size 432x288 with 1 Axes>"
            ]
          },
          "metadata": {
            "tags": [],
            "needs_background": "light"
          }
        }
      ]
    },
    {
      "cell_type": "code",
      "metadata": {
        "id": "PMG2_2jVnhAc",
        "outputId": "e48020c8-fe1a-4aa5-8a44-72a997977433",
        "colab": {
          "base_uri": "https://localhost:8080/",
          "height": 296
        }
      },
      "source": [
        "# Compute mean of each attribute for each class\n",
        "class_label_1 = bank_data.loc[bank_data.iloc[:,-1] == 1,]\n",
        "class_label_0 = bank_data.loc[bank_data.iloc[:,-1] == 0,]\n",
        "\n",
        "mean_1 = class_label_1.iloc[:, :-1].mean()\n",
        "mean_0 = class_label_0.iloc[:, :-1].mean()\n",
        "\n",
        "difference = mean_1 - mean_0\n",
        "\n",
        "attributes = np.arange(1, 65)\n",
        "fig, ax = plt.subplots()\n",
        "ax.grid(zorder=1, axis=\"y\")\n",
        "ax.bar(attributes, difference, zorder=2)\n",
        "ax.set_xlabel(\"Attribute #\")\n",
        "ax.set_ylabel(\"difference\")"
      ],
      "execution_count": null,
      "outputs": [
        {
          "output_type": "execute_result",
          "data": {
            "text/plain": [
              "Text(0, 0.5, 'difference')"
            ]
          },
          "metadata": {
            "tags": []
          },
          "execution_count": 20
        },
        {
          "output_type": "display_data",
          "data": {
            "image/png": "[encoded data removed]",
            "text/plain": [
              "<Figure size 432x288 with 1 Axes>"
            ]
          },
          "metadata": {
            "tags": [],
            "needs_background": "light"
          }
        }
      ]
    },
    {
      "cell_type": "code",
      "metadata": {
        "id": "twM3s8zdoTCL",
        "outputId": "fbb4f159-b5bf-4174-88bc-cfbbc536c963",
        "colab": {
          "base_uri": "https://localhost:8080/",
          "height": 1000
        }
      },
      "source": [
        "# Feature 7\n",
        "for i in range(10):\n",
        "  fig, ax = plt.subplots()\n",
        "  ax.set_title(i)\n",
        "  ax.hist(bank_data.iloc[:, i], bins=20)\n",
        "\n",
        "\n",
        "\n",
        "\n",
        "# ax.hist(bank_data.iloc[:,i], bins=30, density=True)\n",
        "\n",
        "# norm = (bank_data.iloc[:,i] - bank_data.iloc[:,i].min())/(bank_data.iloc[:,i].max() - bank_data.iloc[:,i].min())\n",
        "# fig, ax = plt.subplots()\n",
        "# ax.hist(norm, bins=30, density=True )\n",
        "\n",
        "# fig, ax = plt.subplots()\n",
        "# ax.hist(np.log(norm+1e-2), bins=30, density=True )\n",
        "\n"
      ],
      "execution_count": null,
      "outputs": [
        {
          "output_type": "display_data",
          "data": {
            "image/png": "[encoded data removed]",
            "text/plain": [
              "<Figure size 432x288 with 1 Axes>"
            ]
          },
          "metadata": {
            "tags": [],
            "needs_background": "light"
          }
        },
        {
          "output_type": "display_data",
          "data": {
            "image/png": "[encoded data removed]",
            "text/plain": [
              "<Figure size 432x288 with 1 Axes>"
            ]
          },
          "metadata": {
            "tags": [],
            "needs_background": "light"
          }
        },
        {
          "output_type": "display_data",
          "data": {
            "image/png": "[encoded data removed]",
            "text/plain": [
              "<Figure size 432x288 with 1 Axes>"
            ]
          },
          "metadata": {
            "tags": [],
            "needs_background": "light"
          }
        },
        {
          "output_type": "display_data",
          "data": {
            "image/png": "[encoded data removed]",
            "text/plain": [
              "<Figure size 432x288 with 1 Axes>"
            ]
          },
          "metadata": {
            "tags": [],
            "needs_background": "light"
          }
        },
        {
          "output_type": "display_data",
          "data": {
            "image/png": "[encoded data removed]",
            "text/plain": [
              "<Figure size 432x288 with 1 Axes>"
            ]
          },
          "metadata": {
            "tags": [],
            "needs_background": "light"
          }
        },
        {
          "output_type": "display_data",
          "data": {
            "image/png": "[encoded data removed]",
            "text/plain": [
              "<Figure size 432x288 with 1 Axes>"
            ]
          },
          "metadata": {
            "tags": [],
            "needs_background": "light"
          }
        },
        {
          "output_type": "display_data",
          "data": {
            "image/png": "[encoded data removed]",
            "text/plain": [
              "<Figure size 432x288 with 1 Axes>"
            ]
          },
          "metadata": {
            "tags": [],
            "needs_background": "light"
          }
        },
        {
          "output_type": "display_data",
          "data": {
            "image/png": "[encoded data removed]",
            "text/plain": [
              "<Figure size 432x288 with 1 Axes>"
            ]
          },
          "metadata": {
            "tags": [],
            "needs_background": "light"
          }
        },
        {
          "output_type": "display_data",
          "data": {
            "image/png": "[encoded data removed]",
            "text/plain": [
              "<Figure size 432x288 with 1 Axes>"
            ]
          },
          "metadata": {
            "tags": [],
            "needs_background": "light"
          }
        },
        {
          "output_type": "display_data",
          "data": {
            "image/png": "[encoded data removed]",
            "text/plain": [
              "<Figure size 432x288 with 1 Axes>"
            ]
          },
          "metadata": {
            "tags": [],
            "needs_background": "light"
          }
        }
      ]
    },
    {
      "cell_type": "code",
      "metadata": {
        "id": "b86976FGqAK5"
      },
      "source": [
        ""
      ],
      "execution_count": null,
      "outputs": []
    }
  ]
}